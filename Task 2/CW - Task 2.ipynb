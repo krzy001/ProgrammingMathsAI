{
 "cells": [
  {
   "cell_type": "markdown",
   "metadata": {},
   "source": [
    "Coursework - Task 2"
   ]
  },
  {
   "cell_type": "code",
   "execution_count": 1,
   "metadata": {},
   "outputs": [
    {
     "data": {
      "text/html": [
       "<div>\n",
       "<style scoped>\n",
       "    .dataframe tbody tr th:only-of-type {\n",
       "        vertical-align: middle;\n",
       "    }\n",
       "\n",
       "    .dataframe tbody tr th {\n",
       "        vertical-align: top;\n",
       "    }\n",
       "\n",
       "    .dataframe thead th {\n",
       "        text-align: right;\n",
       "    }\n",
       "</style>\n",
       "<table border=\"1\" class=\"dataframe\">\n",
       "  <thead>\n",
       "    <tr style=\"text-align: right;\">\n",
       "      <th></th>\n",
       "      <th>X1</th>\n",
       "      <th>X2</th>\n",
       "      <th>X3</th>\n",
       "      <th>X4</th>\n",
       "      <th>X5</th>\n",
       "    </tr>\n",
       "  </thead>\n",
       "  <tbody>\n",
       "    <tr>\n",
       "      <th>0</th>\n",
       "      <td>1.869022</td>\n",
       "      <td>-1.593148</td>\n",
       "      <td>2.301561</td>\n",
       "      <td>-1.106284</td>\n",
       "      <td>0.990264</td>\n",
       "    </tr>\n",
       "    <tr>\n",
       "      <th>1</th>\n",
       "      <td>-1.043400</td>\n",
       "      <td>1.320418</td>\n",
       "      <td>0.471534</td>\n",
       "      <td>0.956689</td>\n",
       "      <td>0.518969</td>\n",
       "    </tr>\n",
       "    <tr>\n",
       "      <th>2</th>\n",
       "      <td>0.194242</td>\n",
       "      <td>-1.061130</td>\n",
       "      <td>-0.366098</td>\n",
       "      <td>0.938927</td>\n",
       "      <td>-1.323831</td>\n",
       "    </tr>\n",
       "    <tr>\n",
       "      <th>3</th>\n",
       "      <td>0.463217</td>\n",
       "      <td>0.475341</td>\n",
       "      <td>-0.688159</td>\n",
       "      <td>1.750722</td>\n",
       "      <td>0.565973</td>\n",
       "    </tr>\n",
       "    <tr>\n",
       "      <th>4</th>\n",
       "      <td>-0.108010</td>\n",
       "      <td>0.567931</td>\n",
       "      <td>-1.146575</td>\n",
       "      <td>0.423871</td>\n",
       "      <td>-0.692175</td>\n",
       "    </tr>\n",
       "    <tr>\n",
       "      <th>...</th>\n",
       "      <td>...</td>\n",
       "      <td>...</td>\n",
       "      <td>...</td>\n",
       "      <td>...</td>\n",
       "      <td>...</td>\n",
       "    </tr>\n",
       "    <tr>\n",
       "      <th>995</th>\n",
       "      <td>0.007627</td>\n",
       "      <td>-0.206823</td>\n",
       "      <td>-0.034551</td>\n",
       "      <td>-1.109386</td>\n",
       "      <td>-1.156086</td>\n",
       "    </tr>\n",
       "    <tr>\n",
       "      <th>996</th>\n",
       "      <td>0.211096</td>\n",
       "      <td>1.119552</td>\n",
       "      <td>1.192294</td>\n",
       "      <td>1.231123</td>\n",
       "      <td>1.446394</td>\n",
       "    </tr>\n",
       "    <tr>\n",
       "      <th>997</th>\n",
       "      <td>-1.035038</td>\n",
       "      <td>-1.778318</td>\n",
       "      <td>-0.461850</td>\n",
       "      <td>-1.300474</td>\n",
       "      <td>-1.438745</td>\n",
       "    </tr>\n",
       "    <tr>\n",
       "      <th>998</th>\n",
       "      <td>0.177654</td>\n",
       "      <td>-0.638601</td>\n",
       "      <td>0.530070</td>\n",
       "      <td>1.550482</td>\n",
       "      <td>-0.876251</td>\n",
       "    </tr>\n",
       "    <tr>\n",
       "      <th>999</th>\n",
       "      <td>-1.594896</td>\n",
       "      <td>0.891324</td>\n",
       "      <td>0.360878</td>\n",
       "      <td>0.112437</td>\n",
       "      <td>0.643662</td>\n",
       "    </tr>\n",
       "  </tbody>\n",
       "</table>\n",
       "<p>1000 rows × 5 columns</p>\n",
       "</div>"
      ],
      "text/plain": [
       "           X1        X2        X3        X4        X5\n",
       "0    1.869022 -1.593148  2.301561 -1.106284  0.990264\n",
       "1   -1.043400  1.320418  0.471534  0.956689  0.518969\n",
       "2    0.194242 -1.061130 -0.366098  0.938927 -1.323831\n",
       "3    0.463217  0.475341 -0.688159  1.750722  0.565973\n",
       "4   -0.108010  0.567931 -1.146575  0.423871 -0.692175\n",
       "..        ...       ...       ...       ...       ...\n",
       "995  0.007627 -0.206823 -0.034551 -1.109386 -1.156086\n",
       "996  0.211096  1.119552  1.192294  1.231123  1.446394\n",
       "997 -1.035038 -1.778318 -0.461850 -1.300474 -1.438745\n",
       "998  0.177654 -0.638601  0.530070  1.550482 -0.876251\n",
       "999 -1.594896  0.891324  0.360878  0.112437  0.643662\n",
       "\n",
       "[1000 rows x 5 columns]"
      ]
     },
     "execution_count": 1,
     "metadata": {},
     "output_type": "execute_result"
    }
   ],
   "source": [
    "# Importing Libraries\n",
    "import pandas as pd\n",
    "import numpy as np\n",
    "import matplotlib.pyplot as plt\n",
    "import seaborn as sns\n",
    "\n",
    "from sklearn.datasets import make_regression\n",
    "\n",
    "# Creating a multivariate regression dataset using sklearn’s make_regression function\n",
    "features, y = make_regression(n_samples=1000, n_features=5, noise=15, random_state=1)\n",
    "\n",
    "features = pd.DataFrame(features, columns=['X1', 'X2', 'X3',  'X4', 'X5'])\n",
    "features\n"
   ]
  },
  {
   "cell_type": "code",
   "execution_count": 2,
   "metadata": {},
   "outputs": [
    {
     "name": "stdout",
     "output_type": "stream",
     "text": [
      "              y\n",
      "0    125.292775\n",
      "1    -31.539149\n",
      "2    -12.402882\n",
      "3    133.571935\n",
      "4      4.017033\n",
      "..          ...\n",
      "995  -69.290661\n",
      "996   97.617531\n",
      "997 -195.839458\n",
      "998   47.921170\n",
      "999  -81.382308\n",
      "\n",
      "[1000 rows x 1 columns]\n"
     ]
    }
   ],
   "source": [
    "# Creating the dataframe to house the variable 'y'\n",
    "y = pd.DataFrame(y, columns=['y'])\n",
    "print(y)"
   ]
  },
  {
   "cell_type": "code",
   "execution_count": 7,
   "metadata": {},
   "outputs": [
    {
     "data": {
      "text/html": [
       "<div>\n",
       "<style scoped>\n",
       "    .dataframe tbody tr th:only-of-type {\n",
       "        vertical-align: middle;\n",
       "    }\n",
       "\n",
       "    .dataframe tbody tr th {\n",
       "        vertical-align: top;\n",
       "    }\n",
       "\n",
       "    .dataframe thead th {\n",
       "        text-align: right;\n",
       "    }\n",
       "</style>\n",
       "<table border=\"1\" class=\"dataframe\">\n",
       "  <thead>\n",
       "    <tr style=\"text-align: right;\">\n",
       "      <th></th>\n",
       "      <th>X1</th>\n",
       "      <th>X2</th>\n",
       "      <th>X3</th>\n",
       "      <th>X4</th>\n",
       "      <th>X5</th>\n",
       "      <th>y</th>\n",
       "    </tr>\n",
       "  </thead>\n",
       "  <tbody>\n",
       "    <tr>\n",
       "      <th>0</th>\n",
       "      <td>1.869022</td>\n",
       "      <td>-1.593148</td>\n",
       "      <td>2.301561</td>\n",
       "      <td>-1.106284</td>\n",
       "      <td>0.990264</td>\n",
       "      <td>125.292775</td>\n",
       "    </tr>\n",
       "    <tr>\n",
       "      <th>1</th>\n",
       "      <td>-1.043400</td>\n",
       "      <td>1.320418</td>\n",
       "      <td>0.471534</td>\n",
       "      <td>0.956689</td>\n",
       "      <td>0.518969</td>\n",
       "      <td>-31.539149</td>\n",
       "    </tr>\n",
       "    <tr>\n",
       "      <th>2</th>\n",
       "      <td>0.194242</td>\n",
       "      <td>-1.061130</td>\n",
       "      <td>-0.366098</td>\n",
       "      <td>0.938927</td>\n",
       "      <td>-1.323831</td>\n",
       "      <td>-12.402882</td>\n",
       "    </tr>\n",
       "    <tr>\n",
       "      <th>3</th>\n",
       "      <td>0.463217</td>\n",
       "      <td>0.475341</td>\n",
       "      <td>-0.688159</td>\n",
       "      <td>1.750722</td>\n",
       "      <td>0.565973</td>\n",
       "      <td>133.571935</td>\n",
       "    </tr>\n",
       "    <tr>\n",
       "      <th>4</th>\n",
       "      <td>-0.108010</td>\n",
       "      <td>0.567931</td>\n",
       "      <td>-1.146575</td>\n",
       "      <td>0.423871</td>\n",
       "      <td>-0.692175</td>\n",
       "      <td>4.017033</td>\n",
       "    </tr>\n",
       "    <tr>\n",
       "      <th>...</th>\n",
       "      <td>...</td>\n",
       "      <td>...</td>\n",
       "      <td>...</td>\n",
       "      <td>...</td>\n",
       "      <td>...</td>\n",
       "      <td>...</td>\n",
       "    </tr>\n",
       "    <tr>\n",
       "      <th>995</th>\n",
       "      <td>0.007627</td>\n",
       "      <td>-0.206823</td>\n",
       "      <td>-0.034551</td>\n",
       "      <td>-1.109386</td>\n",
       "      <td>-1.156086</td>\n",
       "      <td>-69.290661</td>\n",
       "    </tr>\n",
       "    <tr>\n",
       "      <th>996</th>\n",
       "      <td>0.211096</td>\n",
       "      <td>1.119552</td>\n",
       "      <td>1.192294</td>\n",
       "      <td>1.231123</td>\n",
       "      <td>1.446394</td>\n",
       "      <td>97.617531</td>\n",
       "    </tr>\n",
       "    <tr>\n",
       "      <th>997</th>\n",
       "      <td>-1.035038</td>\n",
       "      <td>-1.778318</td>\n",
       "      <td>-0.461850</td>\n",
       "      <td>-1.300474</td>\n",
       "      <td>-1.438745</td>\n",
       "      <td>-195.839458</td>\n",
       "    </tr>\n",
       "    <tr>\n",
       "      <th>998</th>\n",
       "      <td>0.177654</td>\n",
       "      <td>-0.638601</td>\n",
       "      <td>0.530070</td>\n",
       "      <td>1.550482</td>\n",
       "      <td>-0.876251</td>\n",
       "      <td>47.921170</td>\n",
       "    </tr>\n",
       "    <tr>\n",
       "      <th>999</th>\n",
       "      <td>-1.594896</td>\n",
       "      <td>0.891324</td>\n",
       "      <td>0.360878</td>\n",
       "      <td>0.112437</td>\n",
       "      <td>0.643662</td>\n",
       "      <td>-81.382308</td>\n",
       "    </tr>\n",
       "  </tbody>\n",
       "</table>\n",
       "<p>1000 rows × 6 columns</p>\n",
       "</div>"
      ],
      "text/plain": [
       "           X1        X2        X3        X4        X5           y\n",
       "0    1.869022 -1.593148  2.301561 -1.106284  0.990264  125.292775\n",
       "1   -1.043400  1.320418  0.471534  0.956689  0.518969  -31.539149\n",
       "2    0.194242 -1.061130 -0.366098  0.938927 -1.323831  -12.402882\n",
       "3    0.463217  0.475341 -0.688159  1.750722  0.565973  133.571935\n",
       "4   -0.108010  0.567931 -1.146575  0.423871 -0.692175    4.017033\n",
       "..        ...       ...       ...       ...       ...         ...\n",
       "995  0.007627 -0.206823 -0.034551 -1.109386 -1.156086  -69.290661\n",
       "996  0.211096  1.119552  1.192294  1.231123  1.446394   97.617531\n",
       "997 -1.035038 -1.778318 -0.461850 -1.300474 -1.438745 -195.839458\n",
       "998  0.177654 -0.638601  0.530070  1.550482 -0.876251   47.921170\n",
       "999 -1.594896  0.891324  0.360878  0.112437  0.643662  -81.382308\n",
       "\n",
       "[1000 rows x 6 columns]"
      ]
     },
     "execution_count": 7,
     "metadata": {},
     "output_type": "execute_result"
    }
   ],
   "source": [
    "# Combining them to form the dataframe (df)\n",
    "df = pd.concat([features, y], axis=1)\n",
    "df"
   ]
  },
  {
   "cell_type": "code",
   "execution_count": 4,
   "metadata": {},
   "outputs": [
    {
     "data": {
      "image/png": "[encoded data removed]",
      "text/plain": [
       "<Figure size 432x288 with 1 Axes>"
      ]
     },
     "metadata": {
      "needs_background": "light"
     },
     "output_type": "display_data"
    }
   ],
   "source": [
    "# Ploting out the graph of one of the columns (X2) to see the outliers\n",
    "plt.scatter(features.iloc[:, 2], y, color='red', marker=\".\", label='y')\n",
    "plt.xlabel(\"x\")\n",
    "plt.ylabel(\"y\")\n",
    "plt.show()"
   ]
  },
  {
   "cell_type": "code",
   "execution_count": 5,
   "metadata": {},
   "outputs": [
    {
     "name": "stdout",
     "output_type": "stream",
     "text": [
      "                                 OLS Regression Results                                \n",
      "=======================================================================================\n",
      "Dep. Variable:                      y   R-squared (uncentered):                   0.970\n",
      "Model:                            OLS   Adj. R-squared (uncentered):              0.969\n",
      "Method:                 Least Squares   F-statistic:                              6355.\n",
      "Date:                Sun, 02 Jan 2022   Prob (F-statistic):                        0.00\n",
      "Time:                        03:50:58   Log-Likelihood:                         -4123.5\n",
      "No. Observations:                1000   AIC:                                      8257.\n",
      "Df Residuals:                     995   BIC:                                      8282.\n",
      "Df Model:                           5                                                  \n",
      "Covariance Type:            nonrobust                                                  \n",
      "==============================================================================\n",
      "                 coef    std err          t      P>|t|      [0.025      0.975]\n",
      "------------------------------------------------------------------------------\n",
      "X1            72.5909      0.494    146.981      0.000      71.622      73.560\n",
      "X2             8.2463      0.467     17.646      0.000       7.329       9.163\n",
      "X3             6.7584      0.467     14.461      0.000       5.841       7.675\n",
      "X4            33.0211      0.469     70.443      0.000      32.101      33.941\n",
      "X5            31.1743      0.477     65.347      0.000      30.238      32.110\n",
      "==============================================================================\n",
      "Omnibus:                        0.857   Durbin-Watson:                   2.059\n",
      "Prob(Omnibus):                  0.652   Jarque-Bera (JB):                0.726\n",
      "Skew:                           0.034   Prob(JB):                        0.696\n",
      "Kurtosis:                       3.113   Cond. No.                         1.15\n",
      "==============================================================================\n",
      "\n",
      "Notes:\n",
      "[1] R² is computed without centering (uncentered) since the model does not contain a constant.\n",
      "[2] Standard Errors assume that the covariance matrix of the errors is correctly specified.\n"
     ]
    }
   ],
   "source": [
    "# Using statsmodels to print a report on thestatistics of the dataframe\n",
    "import statsmodels.api as sm\n",
    "\n",
    "SM_model = sm.OLS(y, features).fit()\n",
    "print(SM_model.summary())"
   ]
  },
  {
   "cell_type": "code",
   "execution_count": 8,
   "metadata": {},
   "outputs": [],
   "source": [
    "# Defining X and y variables\n",
    "x = df.iloc[:, :-1].values\n",
    "y = df.iloc[:, -1].values"
   ]
  },
  {
   "cell_type": "code",
   "execution_count": 10,
   "metadata": {},
   "outputs": [
    {
     "data": {
      "text/plain": [
       "((900, 5), (900,), (100, 5), (100,))"
      ]
     },
     "execution_count": 10,
     "metadata": {},
     "output_type": "execute_result"
    }
   ],
   "source": [
    "# Splitting the dataset up for training and validation\n",
    "from sklearn.model_selection import train_test_split\n",
    "\n",
    "x_train, x_val, y_train, y_val = train_test_split(x, y, test_size = 0.10, random_state=1)\n",
    "x_train.shape, y_train.shape, x_val.shape, y_val.shape"
   ]
  },
  {
   "cell_type": "code",
   "execution_count": 11,
   "metadata": {},
   "outputs": [
    {
     "name": "stdout",
     "output_type": "stream",
     "text": [
      "[[ 2.59625359  1.66577009  1.04556738  2.0043766   0.22344646]\n",
      " [ 3.7402489  -0.45877498 -1.63647401  0.72282268  1.34027191]\n",
      " [ 1.18901076 -1.81472709 -2.61729009  0.18174103 -2.31842848]\n",
      " [-0.61803685 -2.50644065 -1.94258918 -2.11416392 -2.03720123]\n",
      " [ 0.85405084  2.44537804 -1.35810146  2.08721374  0.66155578]\n",
      " [ 0.29811228  2.89359255 -2.25107655  2.74215521 -0.13263657]\n",
      " [ 3.9586027  -1.39881282  0.10734329  0.08176782  0.64864364]\n",
      " [-0.3558323   0.44031311  3.13504734 -1.43919436  2.89438619]\n",
      " [-0.1218591  -2.91449892 -2.27215913  0.39093519  0.19084898]] \n",
      "\n",
      " [ 268.66291967  331.68511383   19.58721639 -202.13003797  179.89088805\n",
      "  117.78732809  324.72576188   61.62286947  -18.49514481]\n"
     ]
    }
   ],
   "source": [
    "# Using skleanr - LocalOutlierFactor to find and remove the 1% of the outliers in the dataset \n",
    "from sklearn.neighbors import LocalOutlierFactor\n",
    "\n",
    "lof = LocalOutlierFactor(contamination=0.01, n_neighbors=20,  novelty=False)\n",
    "yhat = lof.fit_predict(x_train)\n",
    "\n",
    "# Selecting all rows that are not outliers\n",
    "mask = yhat != -1\n",
    "\n",
    "# Selecting all rows that are outliers\n",
    "non_mask = yhat == -1\n",
    "x_outlier, y_outlier = x_train[non_mask, :], y_train[non_mask]\n",
    "\n",
    "# Printing Results\n",
    "print(x_outlier, \"\\n\\n\", y_outlier)"
   ]
  },
  {
   "cell_type": "code",
   "execution_count": 12,
   "metadata": {},
   "outputs": [
    {
     "name": "stdout",
     "output_type": "stream",
     "text": [
      "(891, 5) (891,)\n"
     ]
    }
   ],
   "source": [
    "# Reseting x_train and y_train to the new shape once the outliers were removed from the dataframe\n",
    "x_train, y_train = x_train[mask, :], y_train[mask]\n",
    "\n",
    "# Summarising the shape of the updated training dataset\n",
    "print(x_train.shape, y_train.shape)"
   ]
  },
  {
   "cell_type": "code",
   "execution_count": 13,
   "metadata": {},
   "outputs": [
    {
     "name": "stdout",
     "output_type": "stream",
     "text": [
      "9\n",
      "[0.3778297912979604, 0.09986144802354702, -2.182425399509166, -0.2056777237581383, 1.230299344816437]\n",
      "[0.09782983053975428, 0.48125579224153536, 0.2921736528161169, 1.7981625491134277, 1.1053352851540197]\n",
      "[-0.7313332135876747, 1.0534759531187834, 0.33288725589561, -1.2506780630612555, -0.007587084742426058]\n",
      "[1.0090902626721503, -0.31663164258546, -0.5516802438110113, -0.4449950027159164, 0.11197268749652817]\n",
      "[-0.0521998698542908, 2.252553060760863, 0.29702659916951785, -1.010409948700302, 0.4608289844097452]\n",
      "[0.6848194568419582, 0.23311263636668741, 0.1650850837802196, -1.8027220504245314, 1.1774543938903057]\n",
      "[0.515413801783241, 0.6745707069560037, -0.7673098263317347, 1.460892380463078, -1.1148710523659369]\n",
      "[-0.6832707184137332, 0.24967101487352886, -0.8912576389118602, -0.6631558312958422, -0.23558565194673464]\n",
      "[-2.0175496143837366, -0.41681131644593494, -0.04413434220979173, 0.5221263819267481, 0.919058572264923]\n"
     ]
    }
   ],
   "source": [
    "# Printing out the Outliers\n",
    "outliers = [each[1] for each in list(zip(yhat, x_train.tolist())) if each[0] == -1]\n",
    "\n",
    "print(len(outliers))\n",
    "for i in outliers:\n",
    "    print(i)"
   ]
  },
  {
   "cell_type": "markdown",
   "metadata": {},
   "source": [
    "Nested Loops"
   ]
  },
  {
   "cell_type": "code",
   "execution_count": 11,
   "metadata": {},
   "outputs": [
    {
     "name": "stdout",
     "output_type": "stream",
     "text": [
      "   df_resid         ssr  df_diff    ss_diff         F    Pr(>F)\n",
      "0      29.0  278.319697      0.0        NaN       NaN       NaN\n",
      "1      28.0  188.007666      1.0  90.312031  13.45018  0.001017\n"
     ]
    }
   ],
   "source": [
    "#Compairing nested loops using F test\n",
    "import pandas as pd\n",
    "from statsmodels.formula.api import ols\n",
    "from statsmodels.stats.anova import anova_lm\n",
    "\n",
    "cars_df = pd.read_csv(\"https://raw.githubusercontent.com/focods/WonderfulML/master/data/mtcars.csv\")\n",
    "m01 = ols('mpg ~ am + wt', data=cars_df).fit()\n",
    "m02 = ols('mpg ~ am + wt + am:wt', data=cars_df).fit()\n",
    "Results = anova_lm(m01, m02)\n",
    "print(Results)"
   ]
  }
 ],
 "metadata": {
  "kernelspec": {
   "display_name": "Python 3",
   "language": "python",
   "name": "python3"
  },
  "language_info": {
   "codemirror_mode": {
    "name": "ipython",
    "version": 3
   },
   "file_extension": ".py",
   "mimetype": "text/x-python",
   "name": "python",
   "nbconvert_exporter": "python",
   "pygments_lexer": "ipython3",
   "version": "3.9.6"
  }
 },
 "nbformat": 4,
 "nbformat_minor": 4
}
